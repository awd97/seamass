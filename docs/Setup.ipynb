{
 "cells": [
  {
   "cell_type": "markdown",
   "metadata": {},
   "source": [
    "# Setup your environment"
   ]
  },
  {
   "cell_type": "code",
   "execution_count": 1,
   "metadata": {
    "collapsed": false
   },
   "outputs": [
    {
     "name": "stderr",
     "output_type": "stream",
     "text": [
      "INFO: Updating METADATA...\n",
      "INFO: Computing changes...\n",
      "INFO: No packages to install, update or remove\n",
      "INFO: Cloning cache of ColorTypes from https://github.com/JuliaGraphics/ColorTypes.jl.git\n",
      "INFO: Cloning cache of Colors from https://github.com/JuliaGraphics/Colors.jl.git\n",
      "INFO: Cloning cache of FixedPointNumbers from https://github.com/JuliaMath/FixedPointNumbers.jl.git\n",
      "INFO: Cloning cache of FixedSizeArrays from https://github.com/SimonDanisch/FixedSizeArrays.jl.git\n",
      "INFO: Cloning cache of Iterators from https://github.com/JuliaLang/Iterators.jl.git\n",
      "INFO: Cloning cache of Measures from https://github.com/dcjones/Measures.jl.git\n",
      "INFO: Cloning cache of PlotUtils from https://github.com/JuliaPlots/PlotUtils.jl.git\n",
      "INFO: Cloning cache of Plots from https://github.com/tbreloff/Plots.jl.git\n",
      "INFO: Cloning cache of RecipesBase from https://github.com/JuliaPlots/RecipesBase.jl.git\n",
      "INFO: Cloning cache of Reexport from https://github.com/simonster/Reexport.jl.git\n",
      "INFO: Cloning cache of Showoff from https://github.com/JuliaGraphics/Showoff.jl.git\n",
      "INFO: Installing ColorTypes v0.2.11\n",
      "INFO: Installing Colors v0.6.9\n",
      "INFO: Installing FixedPointNumbers v0.2.1\n",
      "INFO: Installing FixedSizeArrays v0.2.4\n",
      "INFO: Installing Iterators v0.2.0\n",
      "INFO: Installing Measures v0.0.3\n",
      "INFO: Installing PlotUtils v0.1.1\n",
      "INFO: Installing Plots v0.9.4\n",
      "INFO: Installing RecipesBase v0.1.0\n",
      "INFO: Installing Reexport v0.0.3\n",
      "INFO: Installing Showoff v0.0.7\n",
      "INFO: Building Plots\n",
      "INFO: Cannot find deps/plotly-latest.min.js... downloading latest version.\n",
      "  % Total    % Received % Xferd  Average Speed   Time    Time     Time  Current\n",
      "                                 Dload  Upload   Total   Spent    Left  Speed\n",
      "100 1782k  100 1782k    0     0  3073k      0 --:--:-- --:--:-- --:--:-- 3072k\n",
      "INFO: Package database updated\n",
      "INFO: Cloning cache of Blink from https://github.com/JunoLab/Blink.jl.git\n",
      "INFO: Cloning cache of Codecs from https://github.com/dcjones/Codecs.jl.git\n",
      "INFO: Cloning cache of DocStringExtensions from https://github.com/JuliaDocs/DocStringExtensions.jl.git\n",
      "INFO: Cloning cache of Hiccup from https://github.com/JunoLab/Hiccup.jl.git\n",
      "INFO: Cloning cache of HttpCommon from https://github.com/JuliaWeb/HttpCommon.jl.git\n",
      "INFO: Cloning cache of HttpParser from https://github.com/JuliaWeb/HttpParser.jl.git\n",
      "INFO: Cloning cache of HttpServer from https://github.com/JuliaWeb/HttpServer.jl.git\n",
      "INFO: Cloning cache of Juno from https://github.com/JunoLab/Juno.jl.git\n",
      "INFO: Cloning cache of LaTeXStrings from https://github.com/stevengj/LaTeXStrings.jl.git\n",
      "INFO: Cloning cache of Lazy from https://github.com/MikeInnes/Lazy.jl.git\n",
      "INFO: Cloning cache of MacroTools from https://github.com/MikeInnes/MacroTools.jl.git\n",
      "INFO: Cloning cache of MbedTLS from https://github.com/JuliaWeb/MbedTLS.jl.git\n",
      "INFO: Cloning cache of Media from https://github.com/JunoLab/Media.jl.git\n",
      "INFO: Cloning cache of Mustache from https://github.com/jverzani/Mustache.jl.git\n",
      "INFO: Cloning cache of Mux from https://github.com/JuliaWeb/Mux.jl.git\n",
      "INFO: Cloning cache of PlotlyJS from https://github.com/spencerlyon2/PlotlyJS.jl.git\n",
      "INFO: Cloning cache of WebSockets from https://github.com/JuliaWeb/WebSockets.jl.git\n",
      "INFO: Installing Blink v0.4.3\n",
      "INFO: Installing Codecs v0.2.0\n",
      "INFO: Installing DocStringExtensions v0.2.1\n",
      "INFO: Installing Hiccup v0.0.3\n",
      "INFO: Installing HttpCommon v0.2.6\n",
      "INFO: Installing HttpParser v0.2.0\n",
      "INFO: Installing HttpServer v0.1.7\n",
      "INFO: Installing Juno v0.2.3\n",
      "INFO: Installing LaTeXStrings v0.2.0\n",
      "INFO: Installing Lazy v0.11.4\n",
      "INFO: Installing MacroTools v0.3.2\n",
      "INFO: Installing MbedTLS v0.3.0\n",
      "INFO: Installing Media v0.2.3\n",
      "INFO: Installing Mustache v0.1.2\n",
      "INFO: Installing Mux v0.2.2\n",
      "INFO: Installing PlotlyJS v0.5.0\n",
      "INFO: Installing WebSockets v0.2.1\n",
      "INFO: Building HttpParser\n",
      "INFO: Attempting to Create directory /Users/awd/.julia/v0.5/HttpParser/deps/downloads\n",
      "INFO: Attempting to Create directory /Users/awd/.julia/v0.5/HttpParser/deps/downloads\n",
      "INFO: Directory /Users/awd/.julia/v0.5/HttpParser/deps/downloads already created\n",
      "INFO: Downloading file https://github.com/nodejs/http-parser/archive/v2.7.1.zip\n",
      "  % Total    % Received % Xferd  Average Speed   Time    Time     Time  Current\n",
      "                                 Dload  Upload   Total   Spent    Left  Speed\n",
      "100   123    0   123    0     0    161      0 --:--:-- --:--:-- --:--:--   161\n",
      "100 55365  100 55365    0     0  31213      0  0:00:01  0:00:01 --:--:--  134k\n"
     ]
    },
    {
     "name": "stdout",
     "output_type": "stream",
     "text": [
      "Archive:  /Users/awd/.julia/v0.5/HttpParser/deps/downloads/v2.7.1.zip\n",
      "feae95a3a69f111bc1897b9048d9acbc290992f9\n",
      "   creating: /Users/awd/.julia/v0.5/HttpParser/deps/src/http-parser-2.7.1/\n",
      "  inflating: /Users/awd/.julia/v0.5/HttpParser/deps/src/http-parser-2.7.1/.gitignore  \n",
      "  inflating: /Users/awd/.julia/v0.5/HttpParser/deps/src/http-parser-2.7.1/.mailmap  \n",
      "  inflating: /Users/awd/.julia/v0.5/HttpParser/deps/src/http-parser-2.7.1/.travis.yml  \n",
      "  inflating: /Users/awd/.julia/v0.5/HttpParser/deps/src/http-parser-2.7.1/AUTHORS  \n",
      "  inflating: /Users/awd/.julia/v0.5/HttpParser/deps/src/http-parser-2.7.1/LICENSE-MIT  \n",
      "  inflating: /Users/awd/.julia/v0.5/HttpParser/deps/src/http-parser-2.7.1/Makefile  \n",
      "  inflating: /Users/awd/.julia/v0.5/HttpParser/deps/src/http-parser-2.7.1/README.md  \n",
      "  inflating: /Users/awd/.julia/v0.5/HttpParser/deps/src/http-parser-2.7.1/bench.c  \n",
      "   creating: /Users/awd/.julia/v0.5/HttpParser/deps/src/http-parser-2.7.1/contrib/\n",
      "  inflating: /Users/awd/.julia/v0.5/HttpParser/deps/src/http-parser-2.7.1/contrib/parsertrace.c  \n",
      "  inflating: /Users/awd/.julia/v0.5/HttpParser/deps/src/http-parser-2.7.1/contrib/url_parser.c  \n",
      "  inflating: /Users/awd/.julia/v0.5/HttpParser/deps/src/http-parser-2.7.1/http_parser.c  \n",
      "  inflating: /Users/awd/.julia/v0.5/HttpParser/deps/src/http-parser-2.7.1/http_parser.gyp  \n",
      "  inflating: /Users/awd/.julia/v0.5/HttpParser/deps/src/http-parser-2.7.1/http_parser.h  \n",
      "  inflating: /Users/awd/.julia/v0.5/HttpParser/deps/src/http-parser-2.7.1/test.c  \n",
      "cc  -I. -DHTTP_PARSER_STRICT=0  -Wall -Wextra -Werror -O3  -fPIC -c http_parser.c -o libhttp_parser.o\n"
     ]
    },
    {
     "name": "stderr",
     "output_type": "stream",
     "text": [
      "INFO: Done downloading file https://github.com/nodejs/http-parser/archive/v2.7.1.zip\n",
      "INFO: Attempting to Create directory /Users/awd/.julia/v0.5/HttpParser/deps\n",
      "INFO: Directory /Users/awd/.julia/v0.5/HttpParser/deps already created\n",
      "INFO: Attempting to Create directory /Users/awd/.julia/v0.5/HttpParser/deps/usr/lib\n",
      "INFO: Changing Directory to /Users/awd/.julia/v0.5/HttpParser/deps/src/http-parser-2.7.1\n",
      "INFO: Changing Directory to /Users/awd/.julia/v0.5/HttpParser/deps/src/http-parser-2.7.1\n",
      "INFO: Changing Directory to /Users/awd/.julia/v0.5/HttpParser/deps/src\n",
      "INFO: Attempting to Create directory /Users/awd/.julia/v0.5/HttpParser/deps/usr/lib\n",
      "INFO: Directory /Users/awd/.julia/v0.5/HttpParser/deps/usr/lib already created\n",
      "INFO: Changing Directory to /Users/awd/.julia/v0.5/HttpParser/deps/src\n"
     ]
    },
    {
     "name": "stdout",
     "output_type": "stream",
     "text": [
      "cc  -shared -o libhttp_parser.dylib libhttp_parser.o\n"
     ]
    },
    {
     "name": "stderr",
     "output_type": "stream",
     "text": [
      "INFO: Changing Directory to /Users/awd/.julia/v0.5/HttpParser/deps/src\n",
      "INFO: Building Homebrew\n"
     ]
    },
    {
     "name": "stdout",
     "output_type": "stream",
     "text": [
      "Updated 1 tap (homebrew/core).\n",
      "==> Updated Formulae\n",
      "apache-flink\n",
      "aws-sdk-cpp\n",
      "bsdconv\n",
      "certbot\n",
      "cppcheck\n",
      "cromwell\n",
      "kerl\n",
      "libxmp\n",
      "node\n",
      "progress\n",
      "vultr\n"
     ]
    },
    {
     "name": "stderr",
     "output_type": "stream",
     "text": [
      "INFO: Building MbedTLS\n",
      "WARNING: The following packages do not have relocatable bottles, installation may fail!\n",
      "Please report these packages to https://github.com/JuliaLang/Homebrew.jl:\n",
      "  staticfloat/juliadeps/mbedtls\n"
     ]
    },
    {
     "name": "stdout",
     "output_type": "stream",
     "text": [
      "==> Installing mbedtls from staticfloat/juliadeps\n",
      "==> Installing dependencies for staticfloat/juliadeps/mbedtls: cmake\n",
      "==> Installing staticfloat/juliadeps/mbedtls dependency: cmake\n",
      "==> Downloading https://homebrew.bintray.com/bottles/cmake-3.6.2.sierra.bottle.tar.gz\n",
      "==> Pouring cmake-3.6.2.sierra.bottle.tar.gz\n",
      "==> Caveats\n",
      "Emacs Lisp files have been installed to:\n",
      "  /Users/awd/.julia/v0.5/Homebrew/deps/usr/share/emacs/site-lisp/cmake\n",
      "==> Summary\n",
      "🍺  /Users/awd/.julia/v0.5/Homebrew/deps/usr/Cellar/cmake/3.6.2: 2,028 files, 27.8M\n",
      "==> Installing staticfloat/juliadeps/mbedtls\n",
      "==> Downloading https://tls.mbed.org/download/mbedtls-2.3.0-apache.tgz\n",
      "==> Downloading https://github.com/ARMmbed/mbedtls/commit/7247f99b3e068a2b90b7776a2cdd438fddb7a38b.patch\n",
      "==> Downloading https://github.com/ARMmbed/mbedtls/commit/b5b6af2663fdb7f57c30494607bade90810f6844.patch\n",
      "==> Downloading https://github.com/ARMmbed/mbedtls/commit/b92834324f29768a5bf39c58c674c5f3c09b6763.patch\n",
      "==> Downloading https://github.com/ARMmbed/mbedtls/commit/23e9778684ba734dbfba1445e145b04dd6b59e76.patch\n",
      "==> Patching\n",
      "==> Applying 7247f99b3e068a2b90b7776a2cdd438fddb7a38b.patch\n",
      "patching file include/mbedtls/ssl.h\n",
      "==> Applying b5b6af2663fdb7f57c30494607bade90810f6844.patch\n",
      "patching file include/mbedtls/platform.h\n",
      "patching file include/mbedtls/platform_time.h\n",
      "patching file include/mbedtls/ssl.h\n",
      "patching file library/net.c\n",
      "patching file library/ssl_cache.c\n",
      "patching file library/ssl_ciphersuites.c\n",
      "patching file library/ssl_cli.c\n",
      "patching file library/ssl_cookie.c\n",
      "patching file library/ssl_srv.c\n",
      "patching file library/ssl_ticket.c\n",
      "patching file library/ssl_tls.c\n",
      "patching file library/x509.c\n",
      "patching file programs/ssl/dtls_client.c\n",
      "==> Applying b92834324f29768a5bf39c58c674c5f3c09b6763.patch\n",
      "patching file tests/scripts/all.sh\n",
      "==> Applying 23e9778684ba734dbfba1445e145b04dd6b59e76.patch\n",
      "patching file library/platform.c\n",
      "==> cmake -DUSE_SHARED_MBEDTLS_LIBRARY=On . -DCMAKE_C_FLAGS_RELEASE=-DNDEBUG -DCMAKE_CXX_FLAGS_RELEASE=-DNDEBUG -DCMAKE_INSTALL_PREFIX=/Users/awd/.julia/v0.5/Homebrew/deps/usr/Cellar/mbedtls/2.3.0_3 -DCMAKE_BUILD_TYPE=Release -DCMAKE_FIND_FRAMEWORK=LAST -DCMAKE_VERBOSE_MAKEFILE=ON -Wno-dev\n",
      "==> make\n",
      "==> make install\n",
      "🍺  /Users/awd/.julia/v0.5/Homebrew/deps/usr/Cellar/mbedtls/2.3.0_3: 125 files, 2.8M, built in 32 seconds\n"
     ]
    },
    {
     "name": "stderr",
     "output_type": "stream",
     "text": [
      "Warning: Already linked: /Users/awd/.julia/v0.5/Homebrew/deps/usr/Cellar/mbedtls/2.3.0_3\n",
      "INFO: Package database updated\n",
      "INFO: Cloning cache of DataStructures from https://github.com/JuliaLang/DataStructures.jl.git\n",
      "INFO: Cloning cache of Interact from https://github.com/JuliaLang/Interact.jl.git\n",
      "INFO: Cloning cache of Reactive from https://github.com/JuliaLang/Reactive.jl.git\n",
      "INFO: Installing DataStructures v0.4.6\n",
      "INFO: Installing Interact v0.3.5\n",
      "INFO: Installing Reactive v0.3.6\n",
      "INFO: Building Interact\n",
      "INFO: Enabling widgetsnbextension\n",
      "Enabling notebook extension jupyter-js-widgets/extension...\n",
      "      - Validating: \u001b[32mOK\u001b[0m\n",
      "INFO: ipywidgets version found: 5.2.2\n",
      "INFO: A compatible version of ipywidgets was found. All good.\n",
      "INFO: Package database updated\n",
      "INFO: Checking out Interact master...\n",
      "INFO: Pulling Interact latest master...\n",
      "INFO: No packages to install, update or remove\n",
      "INFO: Cloning SeaMass from https://github.com/biospi/SeaMass.jl\n",
      "INFO: Computing changes...\n",
      "INFO: Cloning cache of Blosc from https://github.com/stevengj/Blosc.jl.git\n",
      "INFO: Cloning cache of HDF5 from https://github.com/JuliaIO/HDF5.jl.git\n",
      "INFO: Cloning cache of LibExpat from https://github.com/amitmurthy/LibExpat.jl.git\n",
      "INFO: Cloning cache of PyCall from https://github.com/JuliaPy/PyCall.jl.git\n",
      "INFO: Installing Blosc v0.1.7\n",
      "INFO: Installing HDF5 v0.6.6\n",
      "INFO: Installing LibExpat v0.2.1\n",
      "INFO: Installing PyCall v1.7.2\n",
      "INFO: Building Blosc\n",
      "  % Total    % Received % Xferd  Average Speed   Time    Time     Time  Current\n",
      "                                 Dload  Upload   Total   Spent    Left  Speed\n",
      "  0     0    0     0    0     0      0      0 --:--:-- --:--:-- --:--:--     0\n",
      "100 63144  100 63144    0     0  59565      0  0:00:01  0:00:01 --:--:-- 59565\n",
      "INFO: Building Homebrew\n"
     ]
    },
    {
     "name": "stdout",
     "output_type": "stream",
     "text": [
      "Already up-to-date.\n"
     ]
    },
    {
     "name": "stderr",
     "output_type": "stream",
     "text": [
      "INFO: Building HDF5\n"
     ]
    },
    {
     "name": "stdout",
     "output_type": "stream",
     "text": [
      "==> Tapping homebrew/science\n"
     ]
    },
    {
     "name": "stderr",
     "output_type": "stream",
     "text": [
      "Cloning into '/Users/awd/.julia/v0.5/Homebrew/deps/usr/Library/Taps/homebrew/homebrew-science'...\n"
     ]
    },
    {
     "name": "stdout",
     "output_type": "stream",
     "text": [
      "Tapped 629 formulae (662 files, 8.5M)\n"
     ]
    },
    {
     "name": "stderr",
     "output_type": "stream",
     "text": [
      "WARNING: The following packages do not have relocatable bottles, installation may fail!\n",
      "Please report these packages to https://github.com/JuliaLang/Homebrew.jl:\n",
      "  homebrew/science/hdf5\n"
     ]
    },
    {
     "name": "stdout",
     "output_type": "stream",
     "text": [
      "==> Installing szip from staticfloat/juliatranslated\n",
      "==> Downloading https://homebrew.bintray.com/bottles/szip-2.1.sierra.bottle.1.tar.gz\n",
      "==> Pouring szip-2.1.sierra.bottle.1.tar.gz\n",
      "🍺  /Users/awd/.julia/v0.5/Homebrew/deps/usr/Cellar/szip/2.1: 11 files, 107.6K\n"
     ]
    },
    {
     "name": "stderr",
     "output_type": "stream",
     "text": [
      "Warning: Already linked: /Users/awd/.julia/v0.5/Homebrew/deps/usr/Cellar/szip/2.1\n"
     ]
    },
    {
     "name": "stdout",
     "output_type": "stream",
     "text": [
      "==> Installing hdf5 from homebrew/science\n",
      "==> Installing dependencies for homebrew/science/hdf5: autoconf, automake, libtool\n",
      "==> Installing homebrew/science/hdf5 dependency: autoconf\n",
      "==> Downloading https://homebrew.bintray.com/bottles/autoconf-2.69.sierra.bottle.4.tar.gz\n",
      "==> Pouring autoconf-2.69.sierra.bottle.4.tar.gz\n",
      "==> Caveats\n",
      "Emacs Lisp files have been installed to:\n",
      "  /Users/awd/.julia/v0.5/Homebrew/deps/usr/share/emacs/site-lisp/autoconf\n",
      "==> Summary\n",
      "🍺  /Users/awd/.julia/v0.5/Homebrew/deps/usr/Cellar/autoconf/2.69: 70 files, 3.0M\n",
      "==> Installing homebrew/science/hdf5 dependency: automake\n",
      "==> Downloading https://homebrew.bintray.com/bottles/automake-1.15.sierra.bottle.2.tar.gz\n",
      "==> Pouring automake-1.15.sierra.bottle.2.tar.gz\n",
      "🍺  /Users/awd/.julia/v0.5/Homebrew/deps/usr/Cellar/automake/1.15: 130 files, 2.9M\n",
      "==> Installing homebrew/science/hdf5 dependency: libtool\n",
      "==> Downloading https://homebrew.bintray.com/bottles/libtool-2.4.6_1.sierra.bottle.tar.gz\n",
      "==> Pouring libtool-2.4.6_1.sierra.bottle.tar.gz\n",
      "==> Caveats\n",
      "In order to prevent conflicts with Apple's own libtool we have prepended a \"g\"\n",
      "so, you have instead: glibtool and glibtoolize.\n",
      "==> Summary\n",
      "🍺  /Users/awd/.julia/v0.5/Homebrew/deps/usr/Cellar/libtool/2.4.6_1: 70 files, 3.7M\n",
      "==> Installing homebrew/science/hdf5\n",
      "==> Downloading https://support.hdfgroup.org/ftp/HDF5/current/src/hdf5-1.8.17.tar.bz2\n",
      "==> autoreconf -fiv\n",
      "==> ./configure --prefix=/Users/awd/.julia/v0.5/Homebrew/deps/usr/Cellar/hdf5/1.8.17 --enable-production --enable-debug=no --with-zlib=/usr --with-szlib=/Users/awd/.julia/v0.5/Homebrew/deps/usr/opt/szip --enable-static=yes --enable-shared=yes --enable-cxx --disable-fortran\n",
      "==> make\n",
      "==> make install\n",
      "🍺  /Users/awd/.julia/v0.5/Homebrew/deps/usr/Cellar/hdf5/1.8.17: 181 files, 10.6M, built in 3 minutes 29 seconds\n"
     ]
    },
    {
     "name": "stderr",
     "output_type": "stream",
     "text": [
      "Warning: Already linked: /Users/awd/.julia/v0.5/Homebrew/deps/usr/Cellar/hdf5/1.8.17\n",
      "INFO: Building PyCall\n",
      "INFO: No system-wide Python was found; got the following error:\n",
      "could not spawn `'' -c \"import distutils.sysconfig; print(distutils.sysconfig.get_config_var('VERSION'))\"`: no such file or directory (ENOENT)\n",
      "using the Python distribution in the Conda package\n"
     ]
    },
    {
     "name": "stdout",
     "output_type": "stream",
     "text": [
      "Fetching package metadata .......\n",
      "Solving package specifications: ..........\n",
      "\n",
      "Package plan for installation in environment /Users/awd/.julia/v0.5/Conda/deps/usr:\n",
      "\n",
      "The following packages will be downloaded:\n",
      "\n",
      "    package                    |            build\n",
      "    ---------------------------|-----------------\n",
      "    mkl-11.3.3                 |                0       101.4 MB\n",
      "    numpy-1.11.2               |           py27_0         3.1 MB\n",
      "    ------------------------------------------------------------\n",
      "                                           Total:       104.5 MB\n",
      "\n",
      "The following NEW packages will be INSTALLED:\n",
      "\n",
      "    mkl:   11.3.3-0     \n",
      "    numpy: 1.11.2-py27_0\n",
      "\n",
      "Fetching packages ...\n",
      "mkl-11.3.3-0.t 100% |###############################| Time: 0:00:20   5.19 MB/s\n",
      "numpy-1.11.2-p 100% |###############################| Time: 0:00:03   1.03 MB/s\n",
      "Extracting packages ...\n",
      "[      COMPLETE      ]|##################################################| 100%\n",
      "Linking packages ...\n",
      "[      COMPLETE      ]|##################################################| 100%\n"
     ]
    },
    {
     "name": "stderr",
     "output_type": "stream",
     "text": [
      "INFO: PyCall is using /Users/awd/.julia/v0.5/Conda/deps/usr/bin/python (Python 2.7.12) at /Users/awd/.julia/v0.5/Conda/deps/usr/bin/python, libpython = /Users/awd/.julia/v0.5/Conda/deps/usr/lib/libpython2.7\n"
     ]
    }
   ],
   "source": [
    "Pkg.update()\n",
    "pkgInstalled = Pkg.installed()\n",
    "\n",
    "if !haskey(pkgInstalled, \"Plots\")\n",
    "    Pkg.add(\"Plots\")\n",
    "end\n",
    "\n",
    "if !haskey(pkgInstalled, \"PlotsJS\")\n",
    "    Pkg.add(\"PlotlyJS\")\n",
    "end\n",
    "\n",
    "if !haskey(pkgInstalled, \"Interact\")\n",
    "    Pkg.add(\"Interact\")\n",
    "    Pkg.checkout(\"Interact\")\n",
    "end\n",
    "\n",
    "if !haskey(pkgInstalled, \"SeaMass\")\n",
    "    ENV[\"PYTHON\"]=\"\"\n",
    "    Pkg.clone(\"https://github.com/biospi/SeaMass.jl\")\n",
    "end"
   ]
  },
  {
   "cell_type": "code",
   "execution_count": null,
   "metadata": {
    "collapsed": true
   },
   "outputs": [],
   "source": []
  }
 ],
 "metadata": {
  "anaconda-cloud": {},
  "kernelspec": {
   "display_name": "Julia 0.5.0",
   "language": "julia",
   "name": "julia-0.5"
  },
  "language_info": {
   "file_extension": ".jl",
   "mimetype": "application/julia",
   "name": "julia",
   "version": "0.5.0"
  }
 },
 "nbformat": 4,
 "nbformat_minor": 1
}
