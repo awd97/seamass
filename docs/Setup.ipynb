{
 "cells": [
  {
   "cell_type": "markdown",
   "metadata": {},
   "source": [
    "# Setup your environment"
   ]
  },
  {
   "cell_type": "code",
   "execution_count": null,
   "metadata": {},
   "outputs": [],
   "source": [
    "Pkg.update()\n",
    "pkgInstalled = Pkg.installed()\n",
    "\n",
    "if !haskey(pkgInstalled, \"Plots\")\n",
    "    Pkg.add(\"Plots\")\n",
    "end\n",
    "\n",
    "if !haskey(pkgInstalled, \"PlotsJS\")\n",
    "    Pkg.add(\"PlotlyJS\")\n",
    "end\n",
    "\n",
    "if !haskey(pkgInstalled, \"Interact\")\n",
    "    Pkg.add(\"Interact\")\n",
    "    Pkg.checkout(\"Interact\")\n",
    "end\n",
    "\n",
    "if !haskey(pkgInstalled, \"SeaMass\")\n",
    "    ENV[\"PYTHON\"]=\"\"\n",
    "    Pkg.clone(\"https://github.com/biospi/SeaMass.jl\")\n",
    "end"
   ]
  },
  {
   "cell_type": "code",
   "execution_count": null,
   "metadata": {
    "collapsed": true
   },
   "outputs": [],
   "source": []
  }
 ],
 "metadata": {
  "anaconda-cloud": {},
  "kernelspec": {
   "display_name": "Julia 0.4.7",
   "language": "julia",
   "name": "julia-0.4"
  },
  "language_info": {
   "file_extension": ".jl",
   "mimetype": "application/julia",
   "name": "julia",
   "version": "0.4.7"
  }
 },
 "nbformat": 4,
 "nbformat_minor": 1
}
