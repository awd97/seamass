{
 "cells": [
  {
   "cell_type": "markdown",
   "metadata": {},
   "source": [
    "# Setup your environment"
   ]
  },
  {
   "cell_type": "code",
   "execution_count": 1,
   "metadata": {},
   "outputs": [
    {
     "name": "stderr",
     "output_type": "stream",
     "text": [
      "\u001b[1m\u001b[34mINFO: Updating METADATA...\n",
      "\u001b[0mfatal: unable to connect to github.com:\n",
      "github.com[0: 192.30.253.113]: errno=Connection timed out\n",
      "github.com[1: 192.30.253.112]: errno=Connection timed out\n",
      "\n"
     ]
    },
    {
     "ename": "LoadError",
     "evalue": "failed process: Process(`git pull --rebase -q`, ProcessExited(1)) [1]",
     "output_type": "error",
     "traceback": [
      "failed process: Process(`git pull --rebase -q`, ProcessExited(1)) [1]",
      "",
      " in pipeline_error at ./process.jl:555"
     ]
    }
   ],
   "source": [
    "Pkg.update()\n",
    "pkgInstalled = Pkg.installed()\n",
    "\n",
    "if !haskey(pkgInstalled, \"Plots\")\n",
    "    Pkg.add(\"Plots\")\n",
    "end\n",
    "\n",
    "if !haskey(pkgInstalled, \"PlotsJS\")\n",
    "    Pkg.add(\"PlotlyJS\")\n",
    "end\n",
    "\n",
    "if !haskey(pkgInstalled, \"Interact\")\n",
    "    Pkg.add(\"Interact\")\n",
    "    Pkg.checkout(\"Interact\")\n",
    "end\n",
    "`\n",
    "if !haskey(pkgInstalled, \"SeaMass\")\n",
    "    ENV[\"PYTHON\"]=\"\"\n",
    "    Pkg.clone(\"https://github.com/biospi/SeaMass.jl\")\n",
    "end"
   ]
  },
  {
   "cell_type": "code",
   "execution_count": null,
   "metadata": {
    "collapsed": true
   },
   "outputs": [],
   "source": []
  }
 ],
 "metadata": {
  "anaconda-cloud": {},
  "kernelspec": {
   "display_name": "Julia 0.4.7",
   "language": "julia",
   "name": "julia-0.4"
  },
  "language_info": {
   "file_extension": ".jl",
   "mimetype": "application/julia",
   "name": "julia",
   "version": "0.4.7"
  }
 },
 "nbformat": 4,
 "nbformat_minor": 1
}
