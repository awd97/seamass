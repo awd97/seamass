{
 "cells": [
  {
   "cell_type": "markdown",
   "metadata": {},
   "source": [
    "# seaMass-1D demo\n",
    "This notebook illustrates how to load seaMass input/output in 1D. Firstly, we need to import the relevant modules..."
   ]
  },
  {
   "cell_type": "code",
   "execution_count": null,
   "metadata": {
    "collapsed": false
   },
   "outputs": [],
   "source": [
    "using Plots; plotly(size=(980,350))\n",
    "using Interact\n",
    "import SeaMass"
   ]
  },
  {
   "cell_type": "markdown",
   "metadata": {},
   "source": [
    "### 1. Load a spectrum from an mzMLb file"
   ]
  },
  {
   "cell_type": "code",
   "execution_count": null,
   "metadata": {
    "collapsed": false
   },
   "outputs": [],
   "source": [
    "mzmlSpectrum = SeaMass.MzmlSpectrum(\"../data/P02U_Swath_1_1D.mzMLb\", 1)\n",
    "\n",
    "plot(mzmlSpectrum.mzs, mzmlSpectrum.intensities, label=\"mzML input\")\n",
    "plot!(xlabel = \"m/z (Th)\", ylabel = \"intensity\")"
   ]
  },
  {
   "cell_type": "markdown",
   "metadata": {},
   "source": [
    "### 2. Load a spectrum from an SMI file"
   ]
  },
  {
   "cell_type": "code",
   "execution_count": null,
   "metadata": {
    "collapsed": false
   },
   "outputs": [],
   "source": [
    "smiSpectrum = SeaMass.SmiSpectrum(\"../data/P02U_Swath_1_1D.pos_617.55.smi\", 1)\n",
    "\n",
    "plot(mzmlSpectrum.mzs, mzmlSpectrum.intensities * smiSpectrum.exposure, label=\"mzML input\")\n",
    "plot!(smiSpectrum.binEdges, vcat(smiSpectrum.binCounts, 0.0), line=:steppost, label=\"SMI input\")\n",
    "plot!(xlabel = \"m/z (Th)\", ylabel = \"ion count\")"
   ]
  },
  {
   "cell_type": "markdown",
   "metadata": {},
   "source": [
    "### 3. Load seaMass output from SMV and SMO files\n",
    "We cannot process the B-spline basis functions returned in the SMV file yet, but we can read the residuals and subtract this from the SMI input bin counts in order to get the seaMass predicted bin counts. In order to compare the two however, we need to make the y axis the ion density."
   ]
  },
  {
   "cell_type": "code",
   "execution_count": null,
   "metadata": {
    "collapsed": false
   },
   "outputs": [],
   "source": [
    "smiBinWidths = smiSpectrum.binEdges[2:end] - smiSpectrum.binEdges[1:end-1]\n",
    "\n",
    "smvSpectrum = SeaMass.SmvSpectrum(\"../data/P02U_Swath_1_1D.pos_617.55.smv\", 1)\n",
    "smvBinCounts = smiSpectrum.binCounts - smvSpectrum.residualBinCounts\n",
    "\n",
    "smoSpectrum = SeaMass.SmoSpectrum(\"../data/P02U_Swath_1_1D.pos_617.55.smo\", 1)\n",
    "binnedSmoSpectrum = SeaMass.BinnedSmoSpectrum(smoSpectrum)\n",
    "sampledSmoSpectrum = SeaMass.MzmlSpectrum(smoSpectrum, 100000)\n",
    "\n",
    "plot(smiSpectrum.binEdges, vcat(smiSpectrum.binCounts  ./ smiBinWidths, 0.0), line=:steppost, label=\"SMI input\")\n",
    "plot!(smiSpectrum.binEdges, vcat(smvBinCounts ./ smiBinWidths, 0.0), line=:steppost, label=\"seaMass prediction\")\n",
    "plot!(binnedSmoSpectrum.binEdges, vcat(binnedSmoSpectrum.binCounts / binnedSmoSpectrum.binWidth, 0.0),\n",
    "      line=:steppost, label=\"binned reconstruction\")\n",
    "plot!(sampledSmoSpectrum.mzs, sampledSmoSpectrum.intensities, label=\"sampled reconstruction\")\n",
    "plot!(xlabel = \"m/z (Th)\", ylabel = \"ion density (counts per Th)\")\n",
    "plot!(ylims = (0., 35000.)) "
   ]
  },
  {
   "cell_type": "markdown",
   "metadata": {},
   "source": [
    "### 5. Animations!"
   ]
  },
  {
   "cell_type": "code",
   "execution_count": null,
   "metadata": {
    "collapsed": false
   },
   "outputs": [],
   "source": [
    "smvFilenames = filter!(r\"^P02U_Swath_1_1D\\.pos_617.55\\..*smv$\", readdir(\"../data/\"))\n",
    "\n",
    "@manipulate for i=slider(0:length(smvFilenames)-1, label=\"Iteration\", value=length(smvFilenames)-1, continuous_update=true)\n",
    "    smvSpectrum = SeaMass.SmvSpectrum(\"../data/\" * smvFilenames[i+1], 1)\n",
    "    seamassBinCounts = smiSpectrum.binCounts - smvSpectrum.residualBinCounts\n",
    "    \n",
    "    plot(smiSpectrum.binEdges, vcat(smiSpectrum.binCounts  ./ smiBinWidths, 0.0), line=:steppost, label=\"SMI input\")\n",
    "    plot!(smiSpectrum.binEdges, vcat(seamassBinCounts ./ smiBinWidths, 0.0), line=:steppost, label=\"seaMass prediction\")\n",
    "    plot!(xlabel = \"m/z (Th)\", ylabel = \"ion density (counts per Th)\")\n",
    "    plot!(ylims = (0., 35000.))\n",
    "    plot!(xlims = (684.2, 684.4), ylims = (0., 35000.))\n",
    "    #plot!(xlims = (688.2, 688.4), ylims = (0., 3000.))\n",
    "end"
   ]
  },
  {
   "cell_type": "code",
   "execution_count": null,
   "metadata": {
    "collapsed": false
   },
   "outputs": [],
   "source": [
    "smiBinWidths = smiSpectrum.binEdges[2:end] - smiSpectrum.binEdges[1:end-1]\n",
    "\n",
    "smoFilenames = filter!(r\"^P02U_Swath_1_1D\\.pos_617.55\\..*smo$\", readdir(\"../data/\"))\n",
    "\n",
    "@manipulate for i=slider(0:length(smoFilenames)-1, label=\"Iteration\", value=length(smoFilenames)-1, continuous_update=true)\n",
    "    smoSpectrum = SeaMass.SmoSpectrum(\"../data/\" * smoFilenames[i+1], 1)\n",
    "    sampledSmoSpectrum = SeaMass.MzmlSpectrum(smoSpectrum, 10000)\n",
    "    \n",
    "    plot(smiSpectrum.binEdges, vcat(smiSpectrum.binCounts  ./ smiBinWidths, 0.0), line=:steppost, label=\"SMI input\")\n",
    "    plot!(sampledSmoSpectrum.mzs, sampledSmoSpectrum.intensities, label=\"sampled reconstruction\")\n",
    "    plot!(xlabel = \"m/z (Th)\", ylabel = \"ion density (counts per Th)\")\n",
    "    #plot!(ylims = (0., 35000.))\n",
    "    plot!(xlims = (684.2, 684.4), ylims = (0., 35000.))\n",
    "    #plot!(xlims = (688.2, 688.4), ylims = (0., 3000.))\n",
    "end\n"
   ]
  },
  {
   "cell_type": "code",
   "execution_count": null,
   "metadata": {
    "collapsed": true
   },
   "outputs": [],
   "source": []
  }
 ],
 "metadata": {
  "anaconda-cloud": {},
  "kernelspec": {
   "display_name": "Julia 0.5.0",
   "language": "julia",
   "name": "julia-0.5"
  },
  "language_info": {
   "file_extension": ".jl",
   "mimetype": "application/julia",
   "name": "julia",
   "version": "0.5.0"
  }
 },
 "nbformat": 4,
 "nbformat_minor": 1
}
