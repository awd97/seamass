{
 "cells": [
  {
   "cell_type": "markdown",
   "metadata": {
    "deletable": true,
    "editable": true
   },
   "source": [
    "# seaMass SWATH demo\n",
    "This notebook illustrates how to load seaMass input/output on SWATH data. Firstly, we need to import the relevant modules..."
   ]
  },
  {
   "cell_type": "code",
   "execution_count": null,
   "metadata": {
    "collapsed": false,
    "deletable": true,
    "editable": true
   },
   "outputs": [],
   "source": [
    "using Plots; plotly(size=(980,350))\n",
    "using Interact\n",
    "import SeaMass"
   ]
  },
  {
   "cell_type": "code",
   "execution_count": null,
   "metadata": {
    "collapsed": false,
    "deletable": true,
    "editable": true
   },
   "outputs": [],
   "source": [
    "reload(\"SeaMass\")"
   ]
  },
  {
   "cell_type": "markdown",
   "metadata": {
    "deletable": true,
    "editable": true
   },
   "source": [
    "### 1. Display spectra from an mzMLb file"
   ]
  },
  {
   "cell_type": "code",
   "execution_count": null,
   "metadata": {
    "collapsed": false,
    "deletable": true,
    "editable": true
   },
   "outputs": [],
   "source": [
    "mzmlSpectra = SeaMass.MzmlSpectrum[]\n",
    "maxSpectraIntensity = 0.0\n",
    "for i = 1:100\n",
    "    push!(mzmlSpectra, SeaMass.MzmlSpectrum(\"../data/P02U_Swath_1__mzWindow_602_605__scanTime_2300_3500.mzMLb\",\n",
    "        2 + (i - 1) * 51))\n",
    "    maxIntensity = maximum(mzmlSpectra[i].intensities)\n",
    "    maxSpectraIntensity = (maxSpectraIntensity > maxIntensity) ? maxSpectraIntensity : maxIntensity\n",
    "end\n",
    "\n",
    "@manipulate for i = slider(1:100, label=\"Spectrum\", value=63, continuous_update=true)\n",
    "    plot(mzmlSpectra[i].mzs, mzmlSpectra[i].intensities, label=\"mzML input\", m=2)\n",
    "    plot!(xlabel = \"m/z (Th)\", ylabel = \"intensity\",\n",
    "        xlims=(602,605), ylims=(-0.05*maxSpectraIntensity,maxSpectraIntensity))\n",
    "end"
   ]
  },
  {
   "cell_type": "markdown",
   "metadata": {
    "deletable": true,
    "editable": true
   },
   "source": [
    "### 2. Compare the spectra from the SMI file"
   ]
  },
  {
   "cell_type": "code",
   "execution_count": null,
   "metadata": {
    "collapsed": false,
    "deletable": true,
    "editable": true
   },
   "outputs": [],
   "source": [
    "@manipulate for i = slider(1:100, label=\"Spectrum\", value=63, continuous_update=true)\n",
    "    smiSpectrum = SeaMass.SmiSpectrum(\n",
    "        \"../data/P02U_Swath_1__mzWindow_602_605__scanTime_2300_3500.pos_411.25.smi\", i)\n",
    "\n",
    "    plot(smiSpectrum.locations, vcat(smiSpectrum.counts, 0.0), line=:steppost, label=\"SMI input\", m=2)\n",
    "    plot!(mzmlSpectra[i].mzs, mzmlSpectra[i].intensities * smiSpectrum.exposure, label=\"mzML input\", m=2)\n",
    "    plot!(xlabel = \"m/z (Th)\", ylabel = \"ion density\",\n",
    "        xlims=(602,605),\n",
    "        ylims=(-0.05*maxSpectraIntensity*smiSpectrum.exposure,maxSpectraIntensity*smiSpectrum.exposure))\n",
    "end"
   ]
  },
  {
   "cell_type": "markdown",
   "metadata": {
    "deletable": true,
    "editable": true
   },
   "source": [
    "### 3. Compare output of 1D seaMass to 1D SMI file"
   ]
  },
  {
   "cell_type": "code",
   "execution_count": null,
   "metadata": {
    "collapsed": false,
    "deletable": true,
    "editable": true
   },
   "outputs": [],
   "source": [
    "smiSpectrum = SeaMass.SmiSpectrum(\n",
    "    \"../data/P02U_Swath_1__mzWindow_602_605__scanTime_2300_3500__index3163.pos_411.25.smi\", 1)\n",
    "smiBinWidths = smiSpectrum.locations[2:end] - smiSpectrum.locations[1:end-1]\n",
    "\n",
    "smoSpectrum = SeaMass.SmoSpectrum(\n",
    "    \"../data/P02U_Swath_1__mzWindow_602_605__scanTime_2300_3500__index3163.pos_411.25.smo1D\", 1)\n",
    "binnedSmoSpectrum = SeaMass.BinnedSmoSpectrum(smoSpectrum)\n",
    "sampledSmoSpectrum = SeaMass.MzmlSpectrum(smoSpectrum, 100000)\n",
    "\n",
    "plot(smiSpectrum.locations, vcat(smiSpectrum.counts  ./ smiBinWidths, 0.0), line=:steppost, label=\"SMI input\")\n",
    "plot!(binnedSmoSpectrum.locations, vcat(binnedSmoSpectrum.counts / binnedSmoSpectrum.binWidth, 0.0),\n",
    "      line=:steppost, label=\"binned reconstruction\")\n",
    "plot!(sampledSmoSpectrum.mzs, sampledSmoSpectrum.intensities, label=\"sampled reconstruction\")\n",
    "plot!(xlabel = \"m/z (Th)\", ylabel = \"ion density (counts per Th)\")"
   ]
  },
  {
   "cell_type": "markdown",
   "metadata": {
    "deletable": true,
    "editable": true
   },
   "source": [
    "#### 3.1. Animation"
   ]
  },
  {
   "cell_type": "code",
   "execution_count": null,
   "metadata": {
    "collapsed": false,
    "deletable": true,
    "editable": true
   },
   "outputs": [],
   "source": [
    "smoFilenames = filter!(r\"^P02U_Swath_1__mzWindow_602_605__scanTime_2300_3500__index3163\\.pos_411.25\\..*smo1D$\",\n",
    "    readdir(\"../data/\"))\n",
    "\n",
    "@manipulate for i=slider(0:length(smoFilenames)-1, label=\"Iteration\", value=0,\n",
    "        continuous_update=true)\n",
    "    smoSpectrum = SeaMass.SmoSpectrum(\"../data/\" * smoFilenames[i+1], 1)\n",
    "    sampledSmoSpectrum = SeaMass.MzmlSpectrum(smoSpectrum, 10000)\n",
    "    \n",
    "    plot(smiSpectrum.locations, vcat(smiSpectrum.counts  ./ smiBinWidths, 0.0), line=:steppost, label=\"SMI input\")\n",
    "    plot!(sampledSmoSpectrum.mzs, sampledSmoSpectrum.intensities, label=\"sampled reconstruction\")\n",
    "    plot!(xlabel = \"m/z (Th)\", ylabel = \"ion density (counts per Th)\")\n",
    "    plot!(xlims = (602.,605.), ylims = (-10000.,120000.))\n",
    "end"
   ]
  },
  {
   "cell_type": "markdown",
   "metadata": {
    "collapsed": true,
    "deletable": true,
    "editable": true
   },
   "source": [
    "### 4. Compare output of 2D seaMass to 1D SMI file"
   ]
  },
  {
   "cell_type": "code",
   "execution_count": null,
   "metadata": {
    "collapsed": false,
    "deletable": true,
    "editable": true
   },
   "outputs": [],
   "source": [
    "smiSpectra = SeaMass.SmiSpectrum[]\n",
    "maxSpectraBinCounts = 0.0\n",
    "for i = 1:100\n",
    "    smiSpectrum = SeaMass.SmiSpectrum(\n",
    "        \"../data/P02U_Swath_1__mzWindow_602_605__scanTime_2300_3500.pos_411.25.smi\", i)\n",
    "    smiBinWidths = smiSpectrum.locations[2:end] - smiSpectrum.locations[1:end-1]\n",
    "    smiSpectrum.counts = vcat(smiSpectrum.counts  ./ smiBinWidths, 0.0)\n",
    "    maxBinCounts = maximum(smiSpectrum.counts)\n",
    "    maxSpectraBinCounts = (maxSpectraBinCounts > maxBinCounts) ? maxSpectraBinCounts : maxBinCounts\n",
    "    push!(smiSpectra, smiSpectrum)\n",
    "end\n",
    "\n",
    "@manipulate for i = slider(1:100, label=\"Spectrum\", value=63, continuous_update=true)\n",
    "    smoSpectrum = SeaMass.SmoSpectrum(\n",
    "        \"../data/P02U_Swath_1__mzWindow_602_605__scanTime_2300_3500.pos_411.25.smo1D\", i)\n",
    "    binnedSmoSpectrum = SeaMass.BinnedSmoSpectrum(smoSpectrum)\n",
    "    sampledSmoSpectrum = SeaMass.MzmlSpectrum(smoSpectrum, 100000)\n",
    "\n",
    "    plot(smiSpectra[i].locations, smiSpectra[i].counts, line=:steppost, label=\"SMI input\")\n",
    "    plot!(binnedSmoSpectrum.locations, vcat(binnedSmoSpectrum.counts / binnedSmoSpectrum.binWidth, 0.0),\n",
    "      line=:steppost, label=\"binned reconstruction\")\n",
    "    plot!(sampledSmoSpectrum.mzs, sampledSmoSpectrum.intensities, label=\"sampled reconstruction\")\n",
    "    plot!(xlabel = \"m/z (Th)\", ylabel = \"ion density (counts per Th)\",\n",
    "        xlims=(602,605), ylims=(-0.05*maxSpectraBinCounts,maxSpectraBinCounts))\n",
    "end"
   ]
  },
  {
   "cell_type": "code",
   "execution_count": null,
   "metadata": {
    "collapsed": true,
    "deletable": true,
    "editable": true
   },
   "outputs": [],
   "source": []
  }
 ],
 "metadata": {
  "anaconda-cloud": {},
  "kernelspec": {
   "display_name": "Julia 0.5.1",
   "language": "julia",
   "name": "julia-0.5"
  },
  "language_info": {
   "file_extension": ".jl",
   "mimetype": "application/julia",
   "name": "julia",
   "version": "0.5.1"
  }
 },
 "nbformat": 4,
 "nbformat_minor": 1
}
