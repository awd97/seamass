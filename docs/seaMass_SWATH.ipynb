{
 "cells": [
  {
   "cell_type": "markdown",
   "metadata": {},
   "source": [
    "# seaMass SWATH demo\n",
    "This notebook illustrates how to load seaMass input/output on SWATH data. Firstly, we need to import the relevant modules..."
   ]
  },
  {
   "cell_type": "code",
   "execution_count": 1,
   "metadata": {},
   "outputs": [
    {
     "name": "stderr",
     "output_type": "stream",
     "text": [
      "\u001b[1m\u001b[34mINFO: Precompiling module Plots.\n",
      "\u001b[0mWARNING: New definition \n",
      "    floattype(Type{#T<:FixedPointNumbers.Fixed}) at /home/awd/.julia/v0.4/FixedPointNumbers/src/fixed.jl:16\n",
      "is ambiguous with: \n",
      "    floattype(Type{FixedPointNumbers.FixedPoint{#T<:Union{Int8, UInt16, Int16, UInt8}, #f<:Any}}) at /home/awd/.julia/v0.4/FixedPointNumbers/src/FixedPointNumbers.jl:89.\n",
      "To fix, define \n",
      "    floattype(Type{FixedPointNumbers.Fixed{_<:Union{Int8, Int16}, #f<:Any}})\n",
      "before the new definition.\n",
      "WARNING: New definition \n",
      "    floattype(Type{#T<:FixedPointNumbers.UFixed}) at /home/awd/.julia/v0.4/FixedPointNumbers/src/ufixed.jl:14\n",
      "is ambiguous with: \n",
      "    floattype(Type{FixedPointNumbers.FixedPoint{#T<:Union{Int8, UInt16, Int16, UInt8}, #f<:Any}}) at /home/awd/.julia/v0.4/FixedPointNumbers/src/FixedPointNumbers.jl:89.\n",
      "To fix, define \n",
      "    floattype(Type{FixedPointNumbers.UFixed{_<:Union{UInt16, UInt8}, #f<:Any}})\n",
      "before the new definition.\n",
      "\u001b[1m\u001b[34mINFO: Precompiling module Interact.\n",
      "\u001b[0mWARNING: New definition \n",
      "    push!(DataStructures.Accumulator{#T<:Any, #V<:Number}, #T<:Any) at /home/awd/.julia/v0.4/DataStructures/src/accumulator.jl:54\n",
      "is ambiguous with: \n",
      "    push!(Base.Associative, Base.Pair) at dict.jl:294.\n",
      "To fix, define \n",
      "    push!(DataStructures.Accumulator{K<:Any, #V<:Number}, _<:Base.Pair)\n",
      "before the new definition.\n",
      "WARNING: Base.String is deprecated, use AbstractString instead.\n",
      "  likely near /home/awd/.julia/v0.4/Interact/src/widgets.jl:53\n",
      "WARNING: Base.String is deprecated, use AbstractString instead.\n",
      "  likely near /home/awd/.julia/v0.4/Interact/src/widgets.jl:53\n",
      "WARNING: Base.String is deprecated, use AbstractString instead.\n",
      "  likely near /home/awd/.julia/v0.4/Interact/src/widgets.jl:183\n",
      "WARNING: Base.String is deprecated, use AbstractString instead.\n",
      "  likely near /home/awd/.julia/v0.4/Interact/src/widgets.jl:183\n",
      "WARNING: Base.String is deprecated, use AbstractString instead.\n",
      "  likely near /home/awd/.julia/v0.4/Interact/src/widgets.jl:238\n",
      "WARNING: Base.String is deprecated, use AbstractString instead.\n",
      "  likely near /home/awd/.julia/v0.4/Interact/src/widgets.jl:238\n",
      "WARNING: Base.String is deprecated, use AbstractString instead.\n",
      "  likely near /home/awd/.julia/v0.4/Interact/src/widgets.jl:238\n",
      "WARNING: Base.String is deprecated, use AbstractString instead.\n",
      "  likely near /home/awd/.julia/v0.4/Interact/src/widgets.jl:475\n",
      "WARNING: Base.String is deprecated, use AbstractString instead.\n",
      "  likely near /home/awd/.julia/v0.4/Interact/src/widgets.jl:475\n",
      "WARNING: Base.String is deprecated, use AbstractString instead.\n",
      "  likely near /home/awd/.julia/v0.4/Interact/src/widgets.jl:475\n",
      "WARNING: Base.String is deprecated, use AbstractString instead.\n",
      "  likely near /home/awd/.julia/v0.4/Interact/src/widgets.jl:475\n"
     ]
    },
    {
     "data": {
      "text/html": [
       "<div id=\"interact-js-shim\">\n",
       "    <script charset=\"utf-8\">\n",
       "(function (IPython, $, _, MathJax) {\n",
       "    $.event.special.destroyed = {\n",
       "\tremove: function(o) {\n",
       "\t    if (o.handler) {\n",
       "\t\to.handler.apply(this, arguments)\n",
       "\t    }\n",
       "\t}\n",
       "    }\n",
       "\n",
       "    var OutputArea = IPython.version >= \"4.0.0\" ? require(\"notebook/js/outputarea\").OutputArea : IPython.OutputArea;\n",
       "\n",
       "    var redrawValue = function (container, type, val) {\n",
       "\tvar selector = $(\"<div/>\");\n",
       "\tvar oa = new OutputArea(_.extend(selector, {\n",
       "\t    selector: selector,\n",
       "\t    prompt_area: true,\n",
       "\t    events: IPython.events,\n",
       "\t    keyboard_manager: IPython.keyboard_manager\n",
       "\t})); // Hack to work with IPython 2.1.0\n",
       "\n",
       "\tswitch (type) {\n",
       "\tcase \"image/png\":\n",
       "            var _src = 'data:' + type + ';base64,' + val;\n",
       "\t    $(container).find(\"img\").attr('src', _src);\n",
       "\t    break;\n",
       "\tcase \"text/latex\":\n",
       "\t\tif (MathJax){\n",
       "\t\t\tvar math = MathJax.Hub.getAllJax(container)[0];\n",
       "\t\t\tMathJax.Hub.Queue([\"Text\", math, val.replace(/^\\${1,2}|\\${1,2}$/g, '')]);\n",
       "\t\t\tbreak;\n",
       "\t\t}\n",
       "\tdefault:\n",
       "\t    var toinsert = OutputArea.append_map[type].apply(\n",
       "\t\toa, [val, {}, selector]\n",
       "\t    );\n",
       "\t    $(container).empty().append(toinsert.contents());\n",
       "\t    selector.remove();\n",
       "\t}\n",
       "    }\n",
       "\n",
       "\n",
       "    $(document).ready(function() {\n",
       "\tfunction initComm(evt, data) {\n",
       "\t    var comm_manager = data.kernel.comm_manager;\n",
       "        //_.extend(comm_manager.targets, require(\"widgets/js/widget\"))\n",
       "\t    comm_manager.register_target(\"Signal\", function (comm) {\n",
       "            comm.on_msg(function (msg) {\n",
       "                var val = msg.content.data.value;\n",
       "                $(\".signal-\" + comm.comm_id).each(function() {\n",
       "                var type = $(this).data(\"type\");\n",
       "                if (typeof(val[type]) !== \"undefined\" && val[type] !== null) {\n",
       "                    redrawValue(this, type, val[type], type);\n",
       "                }\n",
       "                });\n",
       "                delete val;\n",
       "                delete msg.content.data.value;\n",
       "            });\n",
       "\t    });\n",
       "\n",
       "\t    // coordingate with Comm and redraw Signals\n",
       "\t    // XXX: Test using Reactive here to improve performance\n",
       "\t    $([IPython.events]).on(\n",
       "\t\t'output_appended.OutputArea', function (event, type, value, md, toinsert) {\n",
       "\t\t    if (md && md.reactive) {\n",
       "                // console.log(md.comm_id);\n",
       "                toinsert.addClass(\"signal-\" + md.comm_id);\n",
       "                toinsert.data(\"type\", type);\n",
       "                // Signal back indicating the mimetype required\n",
       "                var comm_manager = IPython.notebook.kernel.comm_manager;\n",
       "                var comm = comm_manager.comms[md.comm_id];\n",
       "                comm.then(function (c) {\n",
       "                    c.send({action: \"subscribe_mime\",\n",
       "                       mime: type});\n",
       "                    toinsert.bind(\"destroyed\", function() {\n",
       "                        c.send({action: \"unsubscribe_mime\",\n",
       "                               mime: type});\n",
       "                    });\n",
       "                })\n",
       "\t\t    }\n",
       "\t    });\n",
       "\t}\n",
       "\n",
       "\ttry {\n",
       "\t    // try to initialize right away. otherwise, wait on the status_started event.\n",
       "\t    initComm(undefined, IPython.notebook);\n",
       "\t} catch (e) {\n",
       "\t    $([IPython.events]).on('kernel_created.Kernel kernel_created.Session', initComm);\n",
       "\t}\n",
       "    });\n",
       "})(IPython, jQuery, _, MathJax);\n",
       "</script>\n",
       "    <script>\n",
       "        window.interactLoadedFlag = true\n",
       "       $(\"#interact-js-shim\").bind(\"destroyed\", function () {\n",
       "           if (window.interactLoadedFlag) {\n",
       "               console.warn(\"JavaScript required by Interact will be removed if you remove this cell or run using Interact more than once.\")\n",
       "           }\n",
       "       })\n",
       "       $([IPython.events]).on(\"kernel_starting.Kernel kernel_restarting.Kernel\", function () { window.interactLoadedFlag = false })\n",
       "   </script>\n",
       "</div>"
      ]
     },
     "metadata": {},
     "output_type": "display_data"
    },
    {
     "name": "stderr",
     "output_type": "stream",
     "text": [
      "\u001b[1m\u001b[34mINFO: Precompiling module HDF5.\n",
      "\u001b[0m\u001b[1m\u001b[34mINFO: Precompiling module PyCall.\n",
      "\u001b[0m\u001b[1m\u001b[34mINFO: Installing scipy.interpolate via the Conda scipy package...\n",
      "\u001b[0m"
     ]
    },
    {
     "name": "stdout",
     "output_type": "stream",
     "text": [
      "Fetching package metadata .........\n",
      "Solving package specifications: .\n",
      "\n",
      "Package plan for installation in environment /home/awd/.julia/v0.4/Conda/deps/usr:\n",
      "\n",
      "The following NEW packages will be INSTALLED:\n",
      "\n",
      "    libgfortran: 3.0.0-1           \n",
      "    scipy:       0.19.0-np112py27_0\n",
      "\n",
      "libgfortran-3. 100% |###############################| Time: 0:00:01 251.85 kB/s\n",
      "scipy-0.19.0-n 100% |###############################| Time: 0:01:26 426.02 kB/s  | Time: 0:00:01 395.72 kB/s2 459.86 kB/sipy-0.19.0-n   5% |#                              | Time: 0:00:04 455.68 kB/s% |##                             | Time: 0:00:06 460.96 kB/s                  | Time: 0:00:08 467.23 kB/s  | Time: 0:00:09 474.03 kB/s1 472.84 kB/sipy-0.19.0-n  17% |#####                          | Time: 0:00:13 467.79 kB/s% |######                         | Time: 0:00:15 463.46 kB/s                  | Time: 0:00:17 461.61 kB/s  | Time: 0:00:18 465.95 kB/s0 462.56 kB/sipy-0.19.0-n  28% |########                       | Time: 0:00:22 462.48 kB/s% |#########                      | Time: 0:00:24 455.14 kB/s                  | Time: 0:00:27 441.79 kB/s  | Time: 0:00:30 433.43 kB/s2 432.48 kB/sipy-0.19.0-n  40% |############                   | Time: 0:00:34 431.84 kB/s% |#############                  | Time: 0:00:35 434.31 kB/s                  | Time: 0:00:37 436.74 kB/s  | Time: 0:00:39 431.08 kB/s1 432.27 kB/sipy-0.19.0-n  51% |###############                | Time: 0:00:43 433.60 kB/s% |################               | Time: 0:00:45 436.12 kB/s####              | Time: 0:00:47 436.05 kB/s  | Time: 0:00:48 437.96 kB/s0 438.45 kB/sipy-0.19.0-n  62% |###################            | Time: 0:00:52 440.21 kB/s% |####################           | Time: 0:00:54 439.19 kB/s#######           | Time: 0:00:56 440.66 kB/s  | Time: 0:00:57 442.50 kB/s9 442.49 kB/sipy-0.19.0-n  74% |#######################        | Time: 0:01:02 435.42 kB/s% |#######################        | Time: 0:01:05 432.49 kB/s###########       | Time: 0:01:07 432.00 kB/s  | Time: 0:01:08 432.55 kB/s0 432.25 kB/sipy-0.19.0-n  85% |##########################     | Time: 0:01:13 431.51 kB/s% |###########################    | Time: 0:01:14 433.84 kB/s##############    | Time: 0:01:16 435.52 kB/s  | Time: 0:01:20 422.77 kB/s2 424.33 kB/sipy-0.19.0-n  97% |############################## | Time: 0:01:24 424.62 kB/s% |############################## | Time: 0:01:25 425.40 kB/s\n"
     ]
    }
   ],
   "source": [
    "using Plots; plotly(size=(980,350))\n",
    "using Interact\n",
    "import SeaMass"
   ]
  },
  {
   "cell_type": "code",
   "execution_count": 12,
   "metadata": {},
   "outputs": [
    {
     "name": "stderr",
     "output_type": "stream",
     "text": [
      "WARNING: replacing module SeaMass\n"
     ]
    }
   ],
   "source": [
    "reload(\"SeaMass\")"
   ]
  },
  {
   "cell_type": "markdown",
   "metadata": {},
   "source": [
    "### 1. Display spectra from an mzMLb file"
   ]
  },
  {
   "cell_type": "code",
   "execution_count": 73,
   "metadata": {},
   "outputs": [
    {
     "data": {
      "text/html": [],
      "text/plain": [
       "Interact.Slider{Int64}(Signal{Int64}(63, nactions=1),\"Spectrum\",63,1:100,\"horizontal\",true,\"d\",true)"
      ]
     },
     "metadata": {},
     "output_type": "display_data"
    },
    {
     "data": {
      "text/html": [
       "<script src=\"/home/awd/.julia/v0.4/Plots/deps/plotly-latest.min.js\"></script>    <div id=\"eee7f200-cd1d-4915-bb51-1dcec5d6b25a\" style=\"width:980px;height:350px;\"></div>\n",
       "    <script>\n",
       "    PLOT = document.getElementById('eee7f200-cd1d-4915-bb51-1dcec5d6b25a');\n",
       "    Plotly.plot(PLOT, [{\"yaxis\":\"y\",\"y\":[0.0,39.0,0.0,107.0,36.0,36.0,368.0,416.0,1507.0,1497.0,3900.0,6093.0,11086.0,12251.0,12832.0,7887.0,5112.0,3489.0,1753.0,918.0,349.0,318.0,107.0,178.0,71.0,0.0,38.0,0.0,39.0,0.0,40.0,0.0,40.0,0.0,40.0,0.0,40.0,0.0,40.0,0.0,40.0,39.0,0.0,76.0,38.0,76.0,76.0,38.0,38.0,151.0,373.0,220.0,988.0,1169.9999,2265.0,2750.0,3069.0,3245.0,2771.0,2428.0,2012.0,1088.0,482.0,301.0,273.0,189.0,38.0,38.0,38.0,0.0,38.0,0.0,35.0,0.0,35.0,0.0,35.0,0.0,35.0,0.0,35.0,0.0,35.0,0.0,40.0,0.0,81.0,0.0,40.0,0.0,80.0,0.0,120.0,40.0,0.0,79.0,40.0,0.0,40.0,119.0,119.0,159.0,159.0,198.00002,119.0,119.0,265.0,359.0,375.0,692.99994,381.0,756.0,561.0,480.0,443.0,199.0,40.0,199.0,119.0,0.0,40.0,0.0,35.0,0.0,35.0,0.0,40.0,0.0,40.0,0.0,40.0,0.0,40.0,0.0],\"showlegend\":true,\"name\":\"mzML input\",\"type\":\"scatter\",\"xaxis\":\"x\",\"line\":{\"width\":1,\"dash\":\"solid\",\"color\":\"rgba(0, 154, 250, 1.000)\",\"shape\":\"linear\"},\"x\":[602.1327353688167,602.2644307360952,602.2850913864727,602.3057520959119,602.3091956090077,602.3126391294861,602.3160826598082,602.319526199974,602.3229697499833,602.3264133098362,602.3298568795328,602.3333004590729,602.3367440484569,602.3401876476844,602.3436312567553,602.3470748756698,602.3505185044281,602.3539621430301,602.3574057914756,602.3608494497646,602.3642931178972,602.3677367958735,602.3711804836935,602.3746241813571,602.3780678888644,602.3952866700297,602.412505502874,602.4159493211217,602.4193931467522,602.5847194542464,602.750046236695,602.7689927728609,602.7879393631667,602.8671767850775,602.9464144333915,602.972254974872,602.9980955901796,603.0136004466231,603.0291053473628,603.1462660368938,603.2634270611079,603.2668733107286,603.2806584544046,603.2944436399162,603.2978899781294,603.3013363237253,603.3047826791648,603.3082290444479,603.3116754195746,603.315121804545,603.3185681993591,603.3220146040169,603.325461018518,603.3289074428628,603.3323538770512,603.3358003210835,603.3392467749593,603.3426932386785,603.3461397122413,603.3495861956478,603.3530326888981,603.356479191992,603.3599257049293,603.3633722277102,603.3668187603348,603.3702653028031,603.373711855115,603.3771584172704,603.3806049868085,603.3892214758679,603.3978379944581,603.4323051909911,603.4667724859602,603.5133063241665,603.5598402952617,603.6529187356668,603.7459974418497,603.7908181059097,603.8356388979367,603.8735666739325,603.9114945582081,604.011497386245,604.1115004997465,604.1580591881582,604.2046180094587,604.2218628786642,604.2391077970876,604.2460058825803,604.2529039877604,604.2649758268624,604.2770477004168,604.2804968440603,604.2839459950864,604.2873951559561,604.2908443266695,604.2942935072265,604.2977426951661,604.3011918929494,604.3046411054981,604.3080903278906,604.3115395576656,604.3149887972843,604.3184380467467,604.3218873060525,604.325336575202,604.3287858541951,604.3322351430319,604.3356844417124,604.3391337502364,604.342583068604,604.3460323968151,604.3494817348699,604.3529310827684,604.3563804405104,604.359829808096,604.3632791855252,604.3667285727983,604.370177969915,604.3736273744141,604.389149902607,604.4046724800179,604.4408932685793,604.4771141604988,604.5271369130131,604.5771598082598,604.6823935911511,604.7876276742726,604.7997048535354,604.811782067251,604.8635441385524,604.9153063575079,604.9273848115191,604.939463299983,604.9696604919686],\"mode\":\"lines+markers\",\"marker\":{\"symbol\":\"circle\",\"line\":{\"width\":1,\"color\":\"rgba(0, 0, 0, 1.000)\"},\"size\":4,\"color\":\"rgba(0, 154, 250, 1.000)\"}}], {\"yaxis\":{\"type\":\"-\",\"titlefont\":{\"size\":15,\"color\":\"rgba(0, 0, 0, 1.000)\",\"family\":\"Helvetica\"},\"title\":\"intensity\",\"tickfont\":{\"size\":11,\"color\":\"rgba(0, 0, 0, 1.000)\",\"family\":\"Helvetica\"},\"range\":[-654.25,13085.0],\"tickmode\":\"array\",\"showgrid\":true,\"tickvals\":[0.0,5000.0,10000.0],\"domain\":[0.10914260717410329,0.9887514060742407],\"ticktext\":[\"0\",\"5000\",\"10000\"],\"zeroline\":false,\"linecolor\":\"rgba(0, 0, 0, 1.000)\",\"tickcolor\":\"rgba(0, 0, 0, 1.000)\",\"anchor\":\"x\"},\"annotations\":[],\"width\":980,\"plot_bgcolor\":\"rgba(255, 255, 255, 1.000)\",\"showlegend\":true,\"legend\":{\"bgcolor\":\"rgba(255, 255, 255, 1.000)\",\"font\":{\"size\":11,\"color\":\"rgba(0, 0, 0, 1.000)\",\"family\":\"Helvetica\"},\"bordercolor\":\"rgba(0, 0, 0, 1.000)\"},\"xaxis\":{\"type\":\"-\",\"titlefont\":{\"size\":15,\"color\":\"rgba(0, 0, 0, 1.000)\",\"family\":\"Helvetica\"},\"title\":\"m/z (Th)\",\"tickfont\":{\"size\":11,\"color\":\"rgba(0, 0, 0, 1.000)\",\"family\":\"Helvetica\"},\"range\":[602,605],\"tickmode\":\"array\",\"showgrid\":true,\"tickvals\":[602.0,603.0,604.0,605.0],\"domain\":[0.05174576392236684,0.9959826450265146],\"ticktext\":[\"602\",\"603\",\"604\",\"605\"],\"zeroline\":false,\"linecolor\":\"rgba(0, 0, 0, 1.000)\",\"tickcolor\":\"rgba(0, 0, 0, 1.000)\",\"anchor\":\"y\"},\"paper_bgcolor\":\"rgba(255, 255, 255, 1.000)\",\"height\":350,\"margin\":{\"r\":0,\"l\":0,\"b\":0,\"t\":20}});\n",
       "    </script>\n"
      ]
     },
     "execution_count": 73,
     "metadata": {
      "comm_id": "ec813a96-f654-4ccf-9b13-daea3b4b43df",
      "reactive": true
     },
     "output_type": "execute_result"
    }
   ],
   "source": [
    "mzmlSpectra = SeaMass.MzmlSpectrum[]\n",
    "maxSpectraIntensity = 0.0\n",
    "\n",
    "for i = 1:100\n",
    "    #push!(mzmlSpectra, SeaMass.MzmlSpectrum(\n",
    "    #        \"../data/P02U_Swath_1__mzWindow_602_605__scanTime_2300_3500.mzMLb\", 2 + (i - 1) * 51))    \n",
    "    push!(mzmlSpectra, SeaMass.MzmlSpectrum(\n",
    "            \"../data/3.smb2mzmlb/P02U_Swath_1__mzWindow_602_605__scanTime_2300_3500.mzMLb\", 7062 + i))\n",
    "    maxIntensity = maximum(mzmlSpectra[i].intensities)\n",
    "    maxSpectraIntensity = (maxSpectraIntensity > maxIntensity) ? maxSpectraIntensity : maxIntensity\n",
    "end\n",
    "\n",
    "@manipulate for i = slider(1:100, label=\"Spectrum\", value=63, continuous_update=true)\n",
    "    plot(mzmlSpectra[i].mzs, mzmlSpectra[i].intensities, label=\"mzML input\", m=2)\n",
    "    plot!(xlabel = \"m/z (Th)\", ylabel = \"intensity\",\n",
    "        xlims=(602,605), ylims=(-0.05*maxSpectraIntensity,maxSpectraIntensity))\n",
    "end"
   ]
  },
  {
   "cell_type": "markdown",
   "metadata": {},
   "source": [
    "### 2. Compare the spectra from the SMB file"
   ]
  },
  {
   "cell_type": "code",
   "execution_count": 74,
   "metadata": {},
   "outputs": [
    {
     "data": {
      "text/html": [],
      "text/plain": [
       "Interact.Slider{Int64}(Signal{Int64}(63, nactions=1),\"Spectrum\",63,1:100,\"horizontal\",true,\"d\",true)"
      ]
     },
     "metadata": {},
     "output_type": "display_data"
    },
    {
     "data": {
      "text/html": [
       "<script src=\"/home/awd/.julia/v0.4/Plots/deps/plotly-latest.min.js\"></script>    <div id=\"4deb580b-ce2c-4d6d-938d-af69b4553293\" style=\"width:980px;height:350px;\"></div>\n",
       "    <script>\n",
       "    PLOT = document.getElementById('4deb580b-ce2c-4d6d-938d-af69b4553293');\n",
       "    Plotly.plot(PLOT, [{\"yaxis\":\"y\",\"y\":[0.0,39.0,0.0,107.0,36.0,36.0,368.0,416.0,1507.0,1497.0,3900.0,6093.0,11086.0,12251.0,12832.0,7887.0,5112.0,3489.0,1753.0,918.0,349.0,318.0,107.0,178.0,71.0,0.0,38.0,0.0,39.0,0.0,40.0,0.0,40.0,0.0,40.0,0.0,40.0,0.0,40.0,0.0,40.0,39.0,0.0,76.0,38.0,76.0,76.0,38.0,38.0,151.0,373.0,220.0,988.0,1169.9998779296875,2265.0,2750.0,3069.0,3245.0,2771.0,2428.0,2012.0,1088.0,482.0,301.0,273.0,189.0,38.0,38.0,38.0,0.0,38.0,0.0,35.0,0.0,35.0,0.0,35.0,0.0,35.0,0.0,35.0,0.0,35.0,0.0,40.0,0.0,81.0,0.0,40.0,0.0,80.0,0.0,120.0,40.0,0.0,79.0,40.0,0.0,40.0,119.0,119.0,159.0,159.0,198.00001525878906,119.0,119.0,265.0,359.0,375.0,692.9999389648438,381.0,756.0,561.0,480.0,443.0,199.0,40.0,199.0,119.0,0.0,40.0,0.0,35.0,0.0,35.0,0.0,40.0,0.0,40.0,0.0,40.0,0.0,40.0,0.0,0.0],\"showlegend\":false,\"name\":\"\",\"type\":\"scatter\",\"xaxis\":\"x\",\"x\":[602.0027616977941,602.2627090398394,602.266152432351,602.3040303405944,602.3074738512294,602.3109173667859,602.3143608921862,602.3178044274301,602.3212479725178,602.3246915274489,602.3281350922236,602.3315786668419,602.335022251304,602.3384658456098,602.3419094497589,602.3453530637516,602.348796687588,602.3522403212683,602.355683964792,602.3591276181592,602.36257128137,602.3660149544245,602.3694586373226,602.3729023300644,602.3763460326498,602.3797897450789,602.4107835949806,602.4142274107674,602.4176712314761,602.4211150620283,602.7483238464644,602.7517686269256,602.7862169187963,602.7896618075372,602.9446917626178,602.9481371041652,602.9963728455789,602.9998183347802,603.0273825584659,603.0308281362597,603.261703937528,603.2651501846877,603.2685964367694,603.29272047204,603.2961668077924,603.2996131484665,603.3030594989841,603.3065058593454,603.3099522295504,603.3133986095988,603.3168449994912,603.3202913992271,603.3237378088065,603.3271842282295,603.330630657496,603.3340770966065,603.3375235455605,603.3409700043579,603.344416472999,603.3478629514836,603.3513094398121,603.3547559379842,603.3582024459997,603.3616489638588,603.3650954915615,603.368542029108,603.3719885764981,603.3754351337318,603.378881700809,603.3823282728081,603.3961146789277,603.3995613099885,603.4650490719937,603.4684958999267,603.5581167484063,603.561563842117,603.7442736292168,603.7477212544826,603.8339149573369,603.8373628385366,603.9097705093284,603.9132186070879,604.1097761654021,604.1132248340909,604.2028935422254,604.206342476692,604.2373832806363,604.2408323135389,604.2511794516217,604.2546285238991,604.2753231298256,604.278772271008,604.2822214171124,604.2856705730603,604.2891197388519,604.2925689144871,604.2960180999659,604.2994672903665,604.3029164955325,604.3063657154639,604.3098149403171,604.313264175014,604.3167134195546,604.3201626739387,604.3236119381663,604.3270612122376,604.3305104961526,604.3339597899112,604.3374090935135,604.3408584069592,604.3443077302486,604.3477570633816,604.3512064063582,604.3546557591785,604.3581051218423,604.3615544943498,604.3650038767008,604.3684532688957,604.3719026709341,604.3753520778941,604.4029477273198,604.406397232716,604.4753893044426,604.478839016555,604.5754348094713,604.5788848070483,604.7859023752538,604.7893529732913,604.8100567337796,604.8135074007224,604.9135808763823,604.9170318386335,604.9377377844047,604.9411888155613,604.998132168376],\"mode\":\"markers\",\"marker\":{\"symbol\":\"circle\",\"line\":{\"width\":1,\"color\":\"rgba(0, 0, 0, 1.000)\"},\"size\":4,\"color\":\"rgba(0, 154, 250, 1.000)\"}},{\"yaxis\":\"y\",\"y\":[0.0,0.0,39.0,39.0,0.0,0.0,107.0,107.0,36.0,36.0,36.0,36.0,368.0,368.0,416.0,416.0,1507.0,1507.0,1497.0,1497.0,3900.0,3900.0,6093.0,6093.0,11086.0,11086.0,12251.0,12251.0,12832.0,12832.0,7887.0,7887.0,5112.0,5112.0,3489.0,3489.0,1753.0,1753.0,918.0,918.0,349.0,349.0,318.0,318.0,107.0,107.0,178.0,178.0,71.0,71.0,0.0,0.0,38.0,38.0,0.0,0.0,39.0,39.0,0.0,0.0,40.0,40.0,0.0,0.0,40.0,40.0,0.0,0.0,40.0,40.0,0.0,0.0,40.0,40.0,0.0,0.0,40.0,40.0,0.0,0.0,40.0,40.0,39.0,39.0,0.0,0.0,76.0,76.0,38.0,38.0,76.0,76.0,76.0,76.0,38.0,38.0,38.0,38.0,151.0,151.0,373.0,373.0,220.0,220.0,988.0,988.0,1169.9998779296875,1169.9998779296875,2265.0,2265.0,2750.0,2750.0,3069.0,3069.0,3245.0,3245.0,2771.0,2771.0,2428.0,2428.0,2012.0,2012.0,1088.0,1088.0,482.0,482.0,301.0,301.0,273.0,273.0,189.0,189.0,38.0,38.0,38.0,38.0,38.0,38.0,0.0,0.0,38.0,38.0,0.0,0.0,35.0,35.0,0.0,0.0,35.0,35.0,0.0,0.0,35.0,35.0,0.0,0.0,35.0,35.0,0.0,0.0,35.0,35.0,0.0,0.0,35.0,35.0,0.0,0.0,40.0,40.0,0.0,0.0,81.0,81.0,0.0,0.0,40.0,40.0,0.0,0.0,80.0,80.0,0.0,0.0,120.0,120.0,40.0,40.0,0.0,0.0,79.0,79.0,40.0,40.0,0.0,0.0,40.0,40.0,119.0,119.0,119.0,119.0,159.0,159.0,159.0,159.0,198.00001525878906,198.00001525878906,119.0,119.0,119.0,119.0,265.0,265.0,359.0,359.0,375.0,375.0,692.9999389648438,692.9999389648438,381.0,381.0,756.0,756.0,561.0,561.0,480.0,480.0,443.0,443.0,199.0,199.0,40.0,40.0,199.0,199.0,119.0,119.0,0.0,0.0,40.0,40.0,0.0,0.0,35.0,35.0,0.0,0.0,35.0,35.0,0.0,0.0,40.0,40.0,0.0,0.0,40.0,40.0,0.0,0.0,40.0,40.0,0.0,0.0,40.0,40.0,0.0,0.0,0.0],\"showlegend\":true,\"name\":\"SMB input\",\"type\":\"scatter\",\"xaxis\":\"x\",\"line\":{\"width\":1,\"dash\":\"solid\",\"color\":\"rgba(0, 154, 250, 1.000)\",\"shape\":\"linear\"},\"x\":[602.0027616977941,602.2627090398394,602.2627090398394,602.266152432351,602.266152432351,602.3040303405944,602.3040303405944,602.3074738512294,602.3074738512294,602.3109173667859,602.3109173667859,602.3143608921862,602.3143608921862,602.3178044274301,602.3178044274301,602.3212479725178,602.3212479725178,602.3246915274489,602.3246915274489,602.3281350922236,602.3281350922236,602.3315786668419,602.3315786668419,602.335022251304,602.335022251304,602.3384658456098,602.3384658456098,602.3419094497589,602.3419094497589,602.3453530637516,602.3453530637516,602.348796687588,602.348796687588,602.3522403212683,602.3522403212683,602.355683964792,602.355683964792,602.3591276181592,602.3591276181592,602.36257128137,602.36257128137,602.3660149544245,602.3660149544245,602.3694586373226,602.3694586373226,602.3729023300644,602.3729023300644,602.3763460326498,602.3763460326498,602.3797897450789,602.3797897450789,602.4107835949806,602.4107835949806,602.4142274107674,602.4142274107674,602.4176712314761,602.4176712314761,602.4211150620283,602.4211150620283,602.7483238464644,602.7483238464644,602.7517686269256,602.7517686269256,602.7862169187963,602.7862169187963,602.7896618075372,602.7896618075372,602.9446917626178,602.9446917626178,602.9481371041652,602.9481371041652,602.9963728455789,602.9963728455789,602.9998183347802,602.9998183347802,603.0273825584659,603.0273825584659,603.0308281362597,603.0308281362597,603.261703937528,603.261703937528,603.2651501846877,603.2651501846877,603.2685964367694,603.2685964367694,603.29272047204,603.29272047204,603.2961668077924,603.2961668077924,603.2996131484665,603.2996131484665,603.3030594989841,603.3030594989841,603.3065058593454,603.3065058593454,603.3099522295504,603.3099522295504,603.3133986095988,603.3133986095988,603.3168449994912,603.3168449994912,603.3202913992271,603.3202913992271,603.3237378088065,603.3237378088065,603.3271842282295,603.3271842282295,603.330630657496,603.330630657496,603.3340770966065,603.3340770966065,603.3375235455605,603.3375235455605,603.3409700043579,603.3409700043579,603.344416472999,603.344416472999,603.3478629514836,603.3478629514836,603.3513094398121,603.3513094398121,603.3547559379842,603.3547559379842,603.3582024459997,603.3582024459997,603.3616489638588,603.3616489638588,603.3650954915615,603.3650954915615,603.368542029108,603.368542029108,603.3719885764981,603.3719885764981,603.3754351337318,603.3754351337318,603.378881700809,603.378881700809,603.3823282728081,603.3823282728081,603.3961146789277,603.3961146789277,603.3995613099885,603.3995613099885,603.4650490719937,603.4650490719937,603.4684958999267,603.4684958999267,603.5581167484063,603.5581167484063,603.561563842117,603.561563842117,603.7442736292168,603.7442736292168,603.7477212544826,603.7477212544826,603.8339149573369,603.8339149573369,603.8373628385366,603.8373628385366,603.9097705093284,603.9097705093284,603.9132186070879,603.9132186070879,604.1097761654021,604.1097761654021,604.1132248340909,604.1132248340909,604.2028935422254,604.2028935422254,604.206342476692,604.206342476692,604.2373832806363,604.2373832806363,604.2408323135389,604.2408323135389,604.2511794516217,604.2511794516217,604.2546285238991,604.2546285238991,604.2753231298256,604.2753231298256,604.278772271008,604.278772271008,604.2822214171124,604.2822214171124,604.2856705730603,604.2856705730603,604.2891197388519,604.2891197388519,604.2925689144871,604.2925689144871,604.2960180999659,604.2960180999659,604.2994672903665,604.2994672903665,604.3029164955325,604.3029164955325,604.3063657154639,604.3063657154639,604.3098149403171,604.3098149403171,604.313264175014,604.313264175014,604.3167134195546,604.3167134195546,604.3201626739387,604.3201626739387,604.3236119381663,604.3236119381663,604.3270612122376,604.3270612122376,604.3305104961526,604.3305104961526,604.3339597899112,604.3339597899112,604.3374090935135,604.3374090935135,604.3408584069592,604.3408584069592,604.3443077302486,604.3443077302486,604.3477570633816,604.3477570633816,604.3512064063582,604.3512064063582,604.3546557591785,604.3546557591785,604.3581051218423,604.3581051218423,604.3615544943498,604.3615544943498,604.3650038767008,604.3650038767008,604.3684532688957,604.3684532688957,604.3719026709341,604.3719026709341,604.3753520778941,604.3753520778941,604.4029477273198,604.4029477273198,604.406397232716,604.406397232716,604.4753893044426,604.4753893044426,604.478839016555,604.478839016555,604.5754348094713,604.5754348094713,604.5788848070483,604.5788848070483,604.7859023752538,604.7859023752538,604.7893529732913,604.7893529732913,604.8100567337796,604.8100567337796,604.8135074007224,604.8135074007224,604.9135808763823,604.9135808763823,604.9170318386335,604.9170318386335,604.9377377844047,604.9377377844047,604.9411888155613,604.9411888155613,604.998132168376,604.998132168376],\"mode\":\"lines\"},{\"yaxis\":\"y\",\"y\":[0.0,39.0,0.0,107.0,36.0,36.0,368.0,416.0,1507.0,1497.0,3900.0,6093.0,11086.0,12251.0,12832.0,7887.0,5112.0,3489.0,1753.0,918.0,349.0,318.0,107.0,178.0,71.0,0.0,38.0,0.0,39.0,0.0,40.0,0.0,40.0,0.0,40.0,0.0,40.0,0.0,40.0,0.0,40.0,39.0,0.0,76.0,38.0,76.0,76.0,38.0,38.0,151.0,373.0,220.0,988.0,1169.9999,2265.0,2750.0,3069.0,3245.0,2771.0,2428.0,2012.0,1088.0,482.0,301.0,273.0,189.0,38.0,38.0,38.0,0.0,38.0,0.0,35.0,0.0,35.0,0.0,35.0,0.0,35.0,0.0,35.0,0.0,35.0,0.0,40.0,0.0,81.0,0.0,40.0,0.0,80.0,0.0,120.0,40.0,0.0,79.0,40.0,0.0,40.0,119.0,119.0,159.0,159.0,198.00002,119.0,119.0,265.0,359.0,375.0,692.99994,381.0,756.0,561.0,480.0,443.0,199.0,40.0,199.0,119.0,0.0,40.0,0.0,35.0,0.0,35.0,0.0,40.0,0.0,40.0,0.0,40.0,0.0,40.0,0.0],\"showlegend\":true,\"name\":\"mzML input\",\"type\":\"scatter\",\"xaxis\":\"x\",\"line\":{\"width\":1,\"dash\":\"solid\",\"color\":\"rgba(227, 111, 71, 1.000)\",\"shape\":\"linear\"},\"x\":[602.1327353688167,602.2644307360952,602.2850913864727,602.3057520959119,602.3091956090077,602.3126391294861,602.3160826598082,602.319526199974,602.3229697499833,602.3264133098362,602.3298568795328,602.3333004590729,602.3367440484569,602.3401876476844,602.3436312567553,602.3470748756698,602.3505185044281,602.3539621430301,602.3574057914756,602.3608494497646,602.3642931178972,602.3677367958735,602.3711804836935,602.3746241813571,602.3780678888644,602.3952866700297,602.412505502874,602.4159493211217,602.4193931467522,602.5847194542464,602.750046236695,602.7689927728609,602.7879393631667,602.8671767850775,602.9464144333915,602.972254974872,602.9980955901796,603.0136004466231,603.0291053473628,603.1462660368938,603.2634270611079,603.2668733107286,603.2806584544046,603.2944436399162,603.2978899781294,603.3013363237253,603.3047826791648,603.3082290444479,603.3116754195746,603.315121804545,603.3185681993591,603.3220146040169,603.325461018518,603.3289074428628,603.3323538770512,603.3358003210835,603.3392467749593,603.3426932386785,603.3461397122413,603.3495861956478,603.3530326888981,603.356479191992,603.3599257049293,603.3633722277102,603.3668187603348,603.3702653028031,603.373711855115,603.3771584172704,603.3806049868085,603.3892214758679,603.3978379944581,603.4323051909911,603.4667724859602,603.5133063241665,603.5598402952617,603.6529187356668,603.7459974418497,603.7908181059097,603.8356388979367,603.8735666739325,603.9114945582081,604.011497386245,604.1115004997465,604.1580591881582,604.2046180094587,604.2218628786642,604.2391077970876,604.2460058825803,604.2529039877604,604.2649758268624,604.2770477004168,604.2804968440603,604.2839459950864,604.2873951559561,604.2908443266695,604.2942935072265,604.2977426951661,604.3011918929494,604.3046411054981,604.3080903278906,604.3115395576656,604.3149887972843,604.3184380467467,604.3218873060525,604.325336575202,604.3287858541951,604.3322351430319,604.3356844417124,604.3391337502364,604.342583068604,604.3460323968151,604.3494817348699,604.3529310827684,604.3563804405104,604.359829808096,604.3632791855252,604.3667285727983,604.370177969915,604.3736273744141,604.389149902607,604.4046724800179,604.4408932685793,604.4771141604988,604.5271369130131,604.5771598082598,604.6823935911511,604.7876276742726,604.7997048535354,604.811782067251,604.8635441385524,604.9153063575079,604.9273848115191,604.939463299983,604.9696604919686],\"mode\":\"lines+markers\",\"marker\":{\"symbol\":\"circle\",\"line\":{\"width\":1,\"color\":\"rgba(0, 0, 0, 1.000)\"},\"size\":4,\"color\":\"rgba(227, 111, 71, 1.000)\"}}], {\"yaxis\":{\"type\":\"-\",\"titlefont\":{\"size\":15,\"color\":\"rgba(0, 0, 0, 1.000)\",\"family\":\"Helvetica\"},\"title\":\"ion density\",\"tickfont\":{\"size\":11,\"color\":\"rgba(0, 0, 0, 1.000)\",\"family\":\"Helvetica\"},\"range\":[-654.25,13085.0],\"tickmode\":\"array\",\"showgrid\":true,\"tickvals\":[0.0,5000.0,10000.0],\"domain\":[0.10914260717410329,0.9887514060742407],\"ticktext\":[\"0\",\"5000\",\"10000\"],\"zeroline\":false,\"linecolor\":\"rgba(0, 0, 0, 1.000)\",\"tickcolor\":\"rgba(0, 0, 0, 1.000)\",\"anchor\":\"x\"},\"annotations\":[],\"width\":980,\"plot_bgcolor\":\"rgba(255, 255, 255, 1.000)\",\"showlegend\":true,\"legend\":{\"bgcolor\":\"rgba(255, 255, 255, 1.000)\",\"font\":{\"size\":11,\"color\":\"rgba(0, 0, 0, 1.000)\",\"family\":\"Helvetica\"},\"bordercolor\":\"rgba(0, 0, 0, 1.000)\"},\"xaxis\":{\"type\":\"-\",\"titlefont\":{\"size\":15,\"color\":\"rgba(0, 0, 0, 1.000)\",\"family\":\"Helvetica\"},\"title\":\"m/z (Th)\",\"tickfont\":{\"size\":11,\"color\":\"rgba(0, 0, 0, 1.000)\",\"family\":\"Helvetica\"},\"range\":[602,605],\"tickmode\":\"array\",\"showgrid\":true,\"tickvals\":[602.0,603.0,604.0,605.0],\"domain\":[0.05174576392236684,0.9959826450265146],\"ticktext\":[\"602\",\"603\",\"604\",\"605\"],\"zeroline\":false,\"linecolor\":\"rgba(0, 0, 0, 1.000)\",\"tickcolor\":\"rgba(0, 0, 0, 1.000)\",\"anchor\":\"y\"},\"paper_bgcolor\":\"rgba(255, 255, 255, 1.000)\",\"height\":350,\"margin\":{\"r\":0,\"l\":0,\"b\":0,\"t\":20}});\n",
       "    </script>\n"
      ]
     },
     "execution_count": 74,
     "metadata": {
      "comm_id": "acd6eff1-cefd-4430-bf78-1aee8f9cc09b",
      "reactive": true
     },
     "output_type": "execute_result"
    }
   ],
   "source": [
    "@manipulate for i = slider(1:100, label=\"Spectrum\", value=63, continuous_update=true)\n",
    "    smbSpectrum = SeaMass.SmbSpectrum(\n",
    "        \"../data/0.mzmlb2smb/P02U_Swath_1__mzWindow_602_605__scanTime_2300_3500.p-411-25.smb\", i)\n",
    "\n",
    "    plot(smbSpectrum.binLocations, vcat(smbSpectrum.counts / smbSpectrum.exposure, 0.0), line=:steppost, label=\"SMB input\", m=2)\n",
    "    plot!(mzmlSpectra[i].mzs, mzmlSpectra[i].intensities, label=\"mzML input\", m=2)\n",
    "    plot!(xlabel = \"m/z (Th)\", ylabel = \"ion density\",\n",
    "        xlims=(602,605),\n",
    "        ylims=(-0.05*maxSpectraIntensity,maxSpectraIntensity))\n",
    "end"
   ]
  },
  {
   "cell_type": "markdown",
   "metadata": {},
   "source": [
    "### 3. Compare output of 1D seaMass to 1D SMI file"
   ]
  },
  {
   "cell_type": "code",
   "execution_count": null,
   "metadata": {},
   "outputs": [],
   "source": [
    "smiSpectrum = SeaMass.SmiSpectrum(\n",
    "    \"../data/P02U_Swath_1__mzWindow_602_605__scanTime_2300_3500__index3163.pos_411.25.smi\", 1)\n",
    "smiBinWidths = smiSpectrum.locations[2:end] - smiSpectrum.locations[1:end-1]\n",
    "\n",
    "smoSpectrum = SeaMass.SmoSpectrum(\n",
    "    \"../data/P02U_Swath_1__mzWindow_602_605__scanTime_2300_3500__index3163.pos_411.25.smo1D\", 1)\n",
    "binnedSmoSpectrum = SeaMass.BinnedSmoSpectrum(smoSpectrum)\n",
    "sampledSmoSpectrum = SeaMass.MzmlSpectrum(smoSpectrum, 100000)\n",
    "\n",
    "plot(smiSpectrum.locations, vcat(smiSpectrum.counts  ./ smiBinWidths, 0.0), line=:steppost, label=\"SMI input\")\n",
    "plot!(binnedSmoSpectrum.locations, vcat(binnedSmoSpectrum.counts / binnedSmoSpectrum.binWidth, 0.0),\n",
    "      line=:steppost, label=\"binned reconstruction\")\n",
    "plot!(sampledSmoSpectrum.mzs, sampledSmoSpectrum.intensities, label=\"sampled reconstruction\")\n",
    "plot!(xlabel = \"m/z (Th)\", ylabel = \"ion density (counts per Th)\")"
   ]
  },
  {
   "cell_type": "markdown",
   "metadata": {},
   "source": [
    "#### 3.1. Animation"
   ]
  },
  {
   "cell_type": "code",
   "execution_count": null,
   "metadata": {},
   "outputs": [],
   "source": [
    "smoFilenames = filter!(r\"^P02U_Swath_1__mzWindow_602_605__scanTime_2300_3500__index3163\\.pos_411.25\\..*smo1D$\",\n",
    "    readdir(\"../data/\"))\n",
    "\n",
    "@manipulate for i=slider(0:length(smoFilenames)-1, label=\"Iteration\", value=0,\n",
    "        continuous_update=true)\n",
    "    smoSpectrum = SeaMass.SmoSpectrum(\"../data/\" * smoFilenames[i+1], 1)\n",
    "    sampledSmoSpectrum = SeaMass.MzmlSpectrum(smoSpectrum, 10000)\n",
    "    \n",
    "    plot(smiSpectrum.locations, vcat(smiSpectrum.counts  ./ smiBinWidths, 0.0), line=:steppost, label=\"SMI input\")\n",
    "    plot!(sampledSmoSpectrum.mzs, sampledSmoSpectrum.intensities, label=\"sampled reconstruction\")\n",
    "    plot!(xlabel = \"m/z (Th)\", ylabel = \"ion density (counts per Th)\")\n",
    "    plot!(xlims = (602.,605.), ylims = (-10000.,120000.))\n",
    "end"
   ]
  },
  {
   "cell_type": "markdown",
   "metadata": {
    "collapsed": true
   },
   "source": [
    "### 4. Compare output of 2D seaMass to 1D SMI file"
   ]
  },
  {
   "cell_type": "code",
   "execution_count": null,
   "metadata": {},
   "outputs": [],
   "source": [
    "smiSpectra = SeaMass.SmiSpectrum[]\n",
    "maxSpectraBinCounts = 0.0\n",
    "for i = 1:100\n",
    "    smiSpectrum = SeaMass.SmiSpectrum(\n",
    "        \"../data/P02U_Swath_1__mzWindow_602_605__scanTime_2300_3500.pos_411.25.smi\", i)\n",
    "    smiBinWidths = smiSpectrum.locations[2:end] - smiSpectrum.locations[1:end-1]\n",
    "    smiSpectrum.counts = vcat(smiSpectrum.counts  ./ smiBinWidths, 0.0)\n",
    "    maxBinCounts = maximum(smiSpectrum.counts)\n",
    "    maxSpectraBinCounts = (maxSpectraBinCounts > maxBinCounts) ? maxSpectraBinCounts : maxBinCounts\n",
    "    push!(smiSpectra, smiSpectrum)\n",
    "end\n",
    "\n",
    "@manipulate for i = slider(1:100, label=\"Spectrum\", value=63, continuous_update=true)\n",
    "    smoSpectrum = SeaMass.SmoSpectrum(\n",
    "        \"../data/P02U_Swath_1__mzWindow_602_605__scanTime_2300_3500.pos_411.25.smo1D\", i)\n",
    "    binnedSmoSpectrum = SeaMass.BinnedSmoSpectrum(smoSpectrum)\n",
    "    sampledSmoSpectrum = SeaMass.MzmlSpectrum(smoSpectrum, 100000)\n",
    "\n",
    "    plot(smiSpectra[i].locations, smiSpectra[i].counts, line=:steppost, label=\"SMI input\")\n",
    "    plot!(binnedSmoSpectrum.locations, vcat(binnedSmoSpectrum.counts / binnedSmoSpectrum.binWidth, 0.0),\n",
    "      line=:steppost, label=\"binned reconstruction\")\n",
    "    plot!(sampledSmoSpectrum.mzs, sampledSmoSpectrum.intensities, label=\"sampled reconstruction\")\n",
    "    plot!(xlabel = \"m/z (Th)\", ylabel = \"ion density (counts per Th)\",\n",
    "        xlims=(602,605), ylims=(-0.05*maxSpectraBinCounts,maxSpectraBinCounts))\n",
    "end"
   ]
  },
  {
   "cell_type": "code",
   "execution_count": null,
   "metadata": {
    "collapsed": true
   },
   "outputs": [],
   "source": []
  }
 ],
 "metadata": {
  "anaconda-cloud": {},
  "kernelspec": {
   "display_name": "Julia 0.4.7",
   "language": "julia",
   "name": "julia-0.4"
  },
  "language_info": {
   "file_extension": ".jl",
   "mimetype": "application/julia",
   "name": "julia",
   "version": "0.4.7"
  }
 },
 "nbformat": 4,
 "nbformat_minor": 1
}
